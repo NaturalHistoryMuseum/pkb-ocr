{
 "cells": [
  {
   "cell_type": "code",
   "execution_count": 7,
   "id": "9212e8d5-cee4-47d7-92d0-a3766cf78e2d",
   "metadata": {},
   "outputs": [],
   "source": [
    "from pathlib import Path\n",
    "import pandas as pd\n",
    "from taxon_parser import TaxonParser, UnparsableNameException"
   ]
  },
  {
   "cell_type": "code",
   "execution_count": 3,
   "id": "f59dc664-cd11-44bd-bda2-c4bb020d0875",
   "metadata": {},
   "outputs": [],
   "source": [
    "DATA_DIR = Path('./data')\n",
    "\n",
    "taxa_df = pd.read_csv(DATA_DIR / 'solanaceae.csv')"
   ]
  },
  {
   "cell_type": "code",
   "execution_count": 4,
   "id": "ae17a8c7-9101-447a-bf10-9e883209c9f8",
   "metadata": {},
   "outputs": [],
   "source": [
    "df = taxa_df[:100]"
   ]
  },
  {
   "cell_type": "code",
   "execution_count": 143,
   "id": "52697ba7-50e5-437f-a80d-86045df05d22",
   "metadata": {},
   "outputs": [],
   "source": [
    "s = 'Witheringia solanacea'"
   ]
  },
  {
   "cell_type": "code",
   "execution_count": 144,
   "id": "460fbae8-1773-4365-899a-d118edbe5f27",
   "metadata": {},
   "outputs": [
    {
     "name": "stdout",
     "output_type": "stream",
     "text": [
      "[NameType.SCIENTIFIC] G:Witheringia S:solanacea R:Rank.SPECIES A:<unknown> BA:<unknown>\n"
     ]
    }
   ],
   "source": [
    "parser = TaxonParser(s)\n",
    "try:\n",
    "    parsed_name = parser.parse()\n",
    "    print(parsed_name)\n",
    "except UnparsableNameException as e:\n",
    "    print(\"this name does not seem to be a valid taxon name: \\n\" + e )"
   ]
  },
  {
   "cell_type": "code",
   "execution_count": 145,
   "id": "6b9ffade-bfb9-4899-91fa-0e9b2fd27c78",
   "metadata": {},
   "outputs": [
    {
     "name": "stdout",
     "output_type": "stream",
     "text": [
      "this name does not seem to be a valid taxon name\n",
      "this name does not seem to be a valid taxon name\n",
      "this name does not seem to be a valid taxon name\n",
      "this name does not seem to be a valid taxon name\n",
      "this name does not seem to be a valid taxon name\n",
      "this name does not seem to be a valid taxon name\n",
      "this name does not seem to be a valid taxon name\n",
      "this name does not seem to be a valid taxon name\n",
      "this name does not seem to be a valid taxon name\n",
      "this name does not seem to be a valid taxon name\n"
     ]
    }
   ],
   "source": [
    "def parse_name(row):\n",
    "    parser = TaxonParser(row['name'])\n",
    "    try:\n",
    "        parsed_name = parser.parse()\n",
    "    except UnparsableNameException as e:\n",
    "        print(\"this name does not seem to be a valid taxon name\")  \n",
    "    else:\n",
    "        return parsed_name.genus, parsed_name.specificEpithet, parsed_name.infraspecificEpithet\n",
    "        \n",
    "    \n",
    "    # return 1,2\n",
    "\n",
    "taxa_df[['genus', 'specificEpithet', 'infraspecificEpithet']] = taxa_df.apply(parse_name, axis=1, result_type=\"expand\")\n",
    "\n",
    "\n"
   ]
  },
  {
   "cell_type": "code",
   "execution_count": 37,
   "id": "9f2ffac9-6afb-43fd-93eb-2aa2423b8c16",
   "metadata": {},
   "outputs": [],
   "source": [
    "taxa_df.to_csv(DATA_DIR / 'taxa.csv', index=False)"
   ]
  },
  {
   "cell_type": "code",
   "execution_count": 104,
   "id": "ee56ea07-37d8-4018-a6e7-42ffc9a73df3",
   "metadata": {},
   "outputs": [],
   "source": [
    "# taxon = 'Mangifera indica Linn.'\n",
    "taxon = 'Capsicum annuum Alef. var. longum'"
   ]
  },
  {
   "cell_type": "code",
   "execution_count": 105,
   "id": "434f0082-81d4-4e58-aab6-b880b47320c5",
   "metadata": {},
   "outputs": [
    {
     "name": "stdout",
     "output_type": "stream",
     "text": [
      "Capsicum annuum longum\n"
     ]
    }
   ],
   "source": [
    "parser = TaxonParser(taxon)\n",
    "parsed_name = parser.parse()\n",
    "\n",
    "print(parsed_name.genus, parsed_name.specificEpithet, parsed_name.infraspecificEpithet)"
   ]
  },
  {
   "cell_type": "code",
   "execution_count": 106,
   "id": "226b1e0b-0c2e-4cfd-9dfa-14759948fe06",
   "metadata": {},
   "outputs": [],
   "source": [
    "# mask = pd.Series([True] * len(taxa_df))\n",
    "\n",
    "if parsed_name.genus and parsed_name.specificEpithet:\n",
    "    mask = (taxa_df.genus == parsed_name.genus) & (taxa_df.specificEpithet == parsed_name.specificEpithet)\n",
    "\n",
    "if parsed_name.infraspecificEpithet:\n",
    "    mask &= (taxa_df.infraspecificEpithet == parsed_name.infraspecificEpithet)\n",
    "\n",
    "result = taxa_df[mask]"
   ]
  },
  {
   "cell_type": "code",
   "execution_count": 112,
   "id": "155fd3a2-3557-43eb-92ad-b15817948c38",
   "metadata": {},
   "outputs": [
    {
     "data": {
      "text/plain": [
       "array([2932944.])"
      ]
     },
     "execution_count": 112,
     "metadata": {},
     "output_type": "execute_result"
    }
   ],
   "source": [
    "result.synonymOf.unique()"
   ]
  },
  {
   "cell_type": "code",
   "execution_count": 113,
   "id": "2a20772c-2ba3-406f-a4c2-ae26330d2ae7",
   "metadata": {},
   "outputs": [],
   "source": [
    "if parsed_name.genus and parsed_name.specificEpithet and parsed_name.hasAuthorship():\n",
    "    taxon_authorship = parsed_name.authorshipComplete()\n",
    "    specificEpithetPrefix = parsed_name.specificEpithet[:3]\n",
    "    mask = (\n",
    "        taxa_df.genus == parsed_name.genus\n",
    "    ) & (\n",
    "        taxa_df.specificEpithet.str.startswith(specificEpithetPrefix)\n",
    "    ) & (\n",
    "        taxa_df.authorship.str.contains(taxon_authorship, case=False)\n",
    "    )\n",
    "    if parsed_name.infraspecificEpithet:\n",
    "        mask &= (taxa_df.infraspecificEpithet == parsed_name.infraspecificEpithet)    \n",
    "        \n",
    "    result = taxa_df[mask]\n",
    "    print(result)\n",
    "    \n",
    "    \n",
    "    "
   ]
  },
  {
   "cell_type": "code",
   "execution_count": 82,
   "id": "d543496e-d289-430b-865e-fe0c85836b4e",
   "metadata": {},
   "outputs": [],
   "source": [
    "if parsed_name.hasAuthorship():\n",
    "    print('h')\n",
    "    taxon_authorship = parsed_name.authorshipComplete()\n",
    "    print(taxon_authorship)"
   ]
  },
  {
   "cell_type": "code",
   "execution_count": null,
   "id": "edd5357d-24d0-42fc-a180-c650e4375da5",
   "metadata": {},
   "outputs": [],
   "source": []
  },
  {
   "cell_type": "code",
   "execution_count": 76,
   "id": "01ce04cc-768b-4614-99aa-d42b3fcbcb9d",
   "metadata": {},
   "outputs": [
    {
     "name": "stdout",
     "output_type": "stream",
     "text": [
      "Empty DataFrame\n",
      "Columns: [taxonID, parent, synonymOf, name, authorship, taxonRank, status, genus, specificEpithet, infraspecificEpithet]\n",
      "Index: []\n"
     ]
    }
   ],
   "source": [
    "if result.empty:\n",
    "    print(result)\n",
    "\n",
    "if len(result) > 1:\n",
    "    # result = result\n",
    "    with_author = result[result.authorship.str.contains('Alef', case=False)]\n",
    "    # if len(with_author) "
   ]
  },
  {
   "cell_type": "code",
   "execution_count": 67,
   "id": "c2744213-e3c1-4998-ab5f-715e7ae925ef",
   "metadata": {},
   "outputs": [
    {
     "data": {
      "text/html": [
       "<div>\n",
       "<style scoped>\n",
       "    .dataframe tbody tr th:only-of-type {\n",
       "        vertical-align: middle;\n",
       "    }\n",
       "\n",
       "    .dataframe tbody tr th {\n",
       "        vertical-align: top;\n",
       "    }\n",
       "\n",
       "    .dataframe thead th {\n",
       "        text-align: right;\n",
       "    }\n",
       "</style>\n",
       "<table border=\"1\" class=\"dataframe\">\n",
       "  <thead>\n",
       "    <tr style=\"text-align: right;\">\n",
       "      <th></th>\n",
       "      <th>taxonID</th>\n",
       "      <th>parent</th>\n",
       "      <th>synonymOf</th>\n",
       "      <th>name</th>\n",
       "      <th>authorship</th>\n",
       "      <th>taxonRank</th>\n",
       "      <th>status</th>\n",
       "      <th>genus</th>\n",
       "      <th>specificEpithet</th>\n",
       "      <th>infraspecificEpithet</th>\n",
       "    </tr>\n",
       "  </thead>\n",
       "  <tbody>\n",
       "    <tr>\n",
       "      <th>8516</th>\n",
       "      <td>12079039</td>\n",
       "      <td>NaN</td>\n",
       "      <td>2932944.0</td>\n",
       "      <td>Capsicum annuum longum</td>\n",
       "      <td>(DC.) Alef.</td>\n",
       "      <td>variety</td>\n",
       "      <td>synonym</td>\n",
       "      <td>Capsicum</td>\n",
       "      <td>annuum</td>\n",
       "      <td>longum</td>\n",
       "    </tr>\n",
       "  </tbody>\n",
       "</table>\n",
       "</div>"
      ],
      "text/plain": [
       "       taxonID  parent  synonymOf                    name   authorship  \\\n",
       "8516  12079039     NaN  2932944.0  Capsicum annuum longum  (DC.) Alef.   \n",
       "\n",
       "     taxonRank   status     genus specificEpithet infraspecificEpithet  \n",
       "8516   variety  synonym  Capsicum          annuum               longum  "
      ]
     },
     "execution_count": 67,
     "metadata": {},
     "output_type": "execute_result"
    }
   ],
   "source": [
    "with_author"
   ]
  },
  {
   "cell_type": "code",
   "execution_count": 122,
   "id": "d6b6d1db-1739-4578-ac4b-57e2d0fd4418",
   "metadata": {},
   "outputs": [],
   "source": [
    "def filter_taxon(genus, specific_epithet, infraspecific_epithet, authorship, prefix_specific=False):\n",
    "    mask = (taxa_df.genus == genus) \n",
    "    if prefix_specific:\n",
    "        mask &= taxa_df.specificEpithet.str.startswith(specific_epithet[:3])\n",
    "    else:\n",
    "        mask &= (taxa_df.specificEpithet == specific_epithet)\n",
    "     \n",
    "    if infraspecific_epithet:\n",
    "        mask &= (taxa_df.infraspecificEpithet == infraspecific_epithet)\n",
    "\n",
    "    if not prefix_specific:\n",
    "        mask &= (taxa_df.infraspecificEpithet == 'FIXME')\n",
    "    result = taxa_df[mask]\n",
    "\n",
    "    if len(result) > 1 and authorship:\n",
    "        with_author = result[result.authorship.str.contains(authorship, case=False)]\n",
    "        if not with_author.empty:\n",
    "            result = with_author\n",
    "\n",
    "    return result\n",
    "    \n",
    "\n",
    "taxon = filter_taxon(parsed_name.genus, parsed_name.specificEpithet, parsed_name.infraspecificEpithet, 'Alef')"
   ]
  },
  {
   "cell_type": "code",
   "execution_count": 126,
   "id": "b78b830f-4ede-452b-92dc-3560f81dda1b",
   "metadata": {},
   "outputs": [],
   "source": [
    "if taxon.empty and True:\n",
    "    taxon = filter_taxon(parsed_name.genus, parsed_name.specificEpithet, parsed_name.infraspecificEpithet, 'Alef', True)"
   ]
  },
  {
   "cell_type": "code",
   "execution_count": 127,
   "id": "22d5ea70-e11a-4d24-b8f5-cecaa65178af",
   "metadata": {},
   "outputs": [
    {
     "data": {
      "text/html": [
       "<div>\n",
       "<style scoped>\n",
       "    .dataframe tbody tr th:only-of-type {\n",
       "        vertical-align: middle;\n",
       "    }\n",
       "\n",
       "    .dataframe tbody tr th {\n",
       "        vertical-align: top;\n",
       "    }\n",
       "\n",
       "    .dataframe thead th {\n",
       "        text-align: right;\n",
       "    }\n",
       "</style>\n",
       "<table border=\"1\" class=\"dataframe\">\n",
       "  <thead>\n",
       "    <tr style=\"text-align: right;\">\n",
       "      <th></th>\n",
       "      <th>taxonID</th>\n",
       "      <th>parent</th>\n",
       "      <th>synonymOf</th>\n",
       "      <th>name</th>\n",
       "      <th>authorship</th>\n",
       "      <th>taxonRank</th>\n",
       "      <th>status</th>\n",
       "      <th>genus</th>\n",
       "      <th>specificEpithet</th>\n",
       "      <th>infraspecificEpithet</th>\n",
       "    </tr>\n",
       "  </thead>\n",
       "  <tbody>\n",
       "    <tr>\n",
       "      <th>8516</th>\n",
       "      <td>12079039</td>\n",
       "      <td>NaN</td>\n",
       "      <td>2932944.0</td>\n",
       "      <td>Capsicum annuum longum</td>\n",
       "      <td>(DC.) Alef.</td>\n",
       "      <td>variety</td>\n",
       "      <td>synonym</td>\n",
       "      <td>Capsicum</td>\n",
       "      <td>annuum</td>\n",
       "      <td>longum</td>\n",
       "    </tr>\n",
       "  </tbody>\n",
       "</table>\n",
       "</div>"
      ],
      "text/plain": [
       "       taxonID  parent  synonymOf                    name   authorship  \\\n",
       "8516  12079039     NaN  2932944.0  Capsicum annuum longum  (DC.) Alef.   \n",
       "\n",
       "     taxonRank   status     genus specificEpithet infraspecificEpithet  \n",
       "8516   variety  synonym  Capsicum          annuum               longum  "
      ]
     },
     "execution_count": 127,
     "metadata": {},
     "output_type": "execute_result"
    }
   ],
   "source": [
    "taxon"
   ]
  },
  {
   "cell_type": "code",
   "execution_count": 128,
   "id": "03e91e7d-336f-461e-9f95-d27820bc8fc1",
   "metadata": {},
   "outputs": [],
   "source": [
    "institutions_df = pd.read_csv(DATA_DIR / 'institutions.csv')"
   ]
  },
  {
   "cell_type": "code",
   "execution_count": 129,
   "id": "763dd2d7-a014-4ab2-b306-7088133c20bb",
   "metadata": {},
   "outputs": [
    {
     "data": {
      "text/html": [
       "<div>\n",
       "<style scoped>\n",
       "    .dataframe tbody tr th:only-of-type {\n",
       "        vertical-align: middle;\n",
       "    }\n",
       "\n",
       "    .dataframe tbody tr th {\n",
       "        vertical-align: top;\n",
       "    }\n",
       "\n",
       "    .dataframe thead th {\n",
       "        text-align: right;\n",
       "    }\n",
       "</style>\n",
       "<table border=\"1\" class=\"dataframe\">\n",
       "  <thead>\n",
       "    <tr style=\"text-align: right;\">\n",
       "      <th></th>\n",
       "      <th>uuid</th>\n",
       "      <th>code</th>\n",
       "      <th>name</th>\n",
       "      <th>country</th>\n",
       "      <th>altCodes</th>\n",
       "    </tr>\n",
       "  </thead>\n",
       "  <tbody>\n",
       "    <tr>\n",
       "      <th>0</th>\n",
       "      <td>53a694c3-1c30-4aaf-a20f-593d6a791d89</td>\n",
       "      <td>CDZMTU</td>\n",
       "      <td>Museum of Zoology, Central Department of Zoology</td>\n",
       "      <td>NP</td>\n",
       "      <td>[]</td>\n",
       "    </tr>\n",
       "    <tr>\n",
       "      <th>1</th>\n",
       "      <td>3448c872-18f9-4d70-8237-148cd1d87b3f</td>\n",
       "      <td>NHMTU</td>\n",
       "      <td>Natural History Museum, Tribhuvan University</td>\n",
       "      <td>NP</td>\n",
       "      <td>[]</td>\n",
       "    </tr>\n",
       "    <tr>\n",
       "      <th>2</th>\n",
       "      <td>2bf398f7-44e2-4a02-8134-4f96b8c2ca95</td>\n",
       "      <td>IITABJ</td>\n",
       "      <td>The International Institute of Tropical Agricu...</td>\n",
       "      <td>BJ</td>\n",
       "      <td>[]</td>\n",
       "    </tr>\n",
       "    <tr>\n",
       "      <th>3</th>\n",
       "      <td>23e0159b-30ed-4968-803c-190d60e11f20</td>\n",
       "      <td>MCCNNUTA</td>\n",
       "      <td>Museo de Universidad Técnica de Ambato</td>\n",
       "      <td>EC</td>\n",
       "      <td>['MCNUTA']</td>\n",
       "    </tr>\n",
       "    <tr>\n",
       "      <th>4</th>\n",
       "      <td>57a6e7b4-9fde-4efb-be3b-b800a6dd72f5</td>\n",
       "      <td>QPLS</td>\n",
       "      <td>Herbario Padre Luis Sodiro (QPLS)</td>\n",
       "      <td>EC</td>\n",
       "      <td>['BEAEP']</td>\n",
       "    </tr>\n",
       "    <tr>\n",
       "      <th>...</th>\n",
       "      <td>...</td>\n",
       "      <td>...</td>\n",
       "      <td>...</td>\n",
       "      <td>...</td>\n",
       "      <td>...</td>\n",
       "    </tr>\n",
       "    <tr>\n",
       "      <th>8130</th>\n",
       "      <td>fdc05902-c9e6-4119-b3a7-0624ab82b2c2</td>\n",
       "      <td>URZF</td>\n",
       "      <td>Institut National de la Recherche Agronomique ...</td>\n",
       "      <td>FR</td>\n",
       "      <td>[]</td>\n",
       "    </tr>\n",
       "    <tr>\n",
       "      <th>8131</th>\n",
       "      <td>fdee1b94-e933-4a6e-9a85-05cc39a085a6</td>\n",
       "      <td>BPBM</td>\n",
       "      <td>Bernice Pauahi Bishop Museum</td>\n",
       "      <td>US</td>\n",
       "      <td>[]</td>\n",
       "    </tr>\n",
       "    <tr>\n",
       "      <th>8132</th>\n",
       "      <td>fefe4a0a-ddf3-499d-b508-e077443dc979</td>\n",
       "      <td>AMIB</td>\n",
       "      <td>Arthropods of Medical Importance Resource Bank</td>\n",
       "      <td>KP</td>\n",
       "      <td>[]</td>\n",
       "    </tr>\n",
       "    <tr>\n",
       "      <th>8133</th>\n",
       "      <td>ff9e52d6-7dc2-42d9-a5d4-3352ff31461f</td>\n",
       "      <td>KNWR</td>\n",
       "      <td>DOI/FWS, Kenai National Wildlife Refuge</td>\n",
       "      <td>US</td>\n",
       "      <td>[]</td>\n",
       "    </tr>\n",
       "    <tr>\n",
       "      <th>8134</th>\n",
       "      <td>ffe9042e-c38e-4e1d-8879-b63c0c96b913</td>\n",
       "      <td>ILLS</td>\n",
       "      <td>Illinois Natural History Survey, Illinois Depa...</td>\n",
       "      <td>US</td>\n",
       "      <td>[]</td>\n",
       "    </tr>\n",
       "  </tbody>\n",
       "</table>\n",
       "<p>8135 rows × 5 columns</p>\n",
       "</div>"
      ],
      "text/plain": [
       "                                      uuid      code  \\\n",
       "0     53a694c3-1c30-4aaf-a20f-593d6a791d89    CDZMTU   \n",
       "1     3448c872-18f9-4d70-8237-148cd1d87b3f     NHMTU   \n",
       "2     2bf398f7-44e2-4a02-8134-4f96b8c2ca95    IITABJ   \n",
       "3     23e0159b-30ed-4968-803c-190d60e11f20  MCCNNUTA   \n",
       "4     57a6e7b4-9fde-4efb-be3b-b800a6dd72f5      QPLS   \n",
       "...                                    ...       ...   \n",
       "8130  fdc05902-c9e6-4119-b3a7-0624ab82b2c2      URZF   \n",
       "8131  fdee1b94-e933-4a6e-9a85-05cc39a085a6      BPBM   \n",
       "8132  fefe4a0a-ddf3-499d-b508-e077443dc979      AMIB   \n",
       "8133  ff9e52d6-7dc2-42d9-a5d4-3352ff31461f      KNWR   \n",
       "8134  ffe9042e-c38e-4e1d-8879-b63c0c96b913      ILLS   \n",
       "\n",
       "                                                   name country    altCodes  \n",
       "0      Museum of Zoology, Central Department of Zoology      NP          []  \n",
       "1          Natural History Museum, Tribhuvan University      NP          []  \n",
       "2     The International Institute of Tropical Agricu...      BJ          []  \n",
       "3                Museo de Universidad Técnica de Ambato      EC  ['MCNUTA']  \n",
       "4                     Herbario Padre Luis Sodiro (QPLS)      EC   ['BEAEP']  \n",
       "...                                                 ...     ...         ...  \n",
       "8130  Institut National de la Recherche Agronomique ...      FR          []  \n",
       "8131                       Bernice Pauahi Bishop Museum      US          []  \n",
       "8132     Arthropods of Medical Importance Resource Bank      KP          []  \n",
       "8133            DOI/FWS, Kenai National Wildlife Refuge      US          []  \n",
       "8134  Illinois Natural History Survey, Illinois Depa...      US          []  \n",
       "\n",
       "[8135 rows x 5 columns]"
      ]
     },
     "execution_count": 129,
     "metadata": {},
     "output_type": "execute_result"
    }
   ],
   "source": [
    "institutions_df"
   ]
  },
  {
   "cell_type": "code",
   "execution_count": 130,
   "id": "d22e81b3-11f6-429e-b3c6-157498e244a9",
   "metadata": {},
   "outputs": [],
   "source": [
    "data = {\n",
    "    'collectorname':'Steven R. Hill',\n",
    "    'taxon':'Capsicum annuum L. var. longum',\n",
    "    'country_location':'South Carolina',\n",
    "    'ISO':'US',\n",
    "    'institutionname':'Harvard University',\n",
    "    'institutioncode':'HAR',\n",
    "    'year':'1989'\n",
    "}\n",
    "\n",
    "collector_name = data['collectorname']\n",
    "taxon_name = data['taxon']\n",
    "institution_code = data['institutioncode']\n",
    "institution_name = data['institutionname']\n",
    "country_iso = data['ISO']\n",
    "country_name = data['country_location']"
   ]
  },
  {
   "cell_type": "code",
   "execution_count": 142,
   "id": "29ee8b85-da18-4358-a147-437ae93d31ed",
   "metadata": {},
   "outputs": [
    {
     "data": {
      "text/plain": [
       "{'uuid': 'c4dce18b-c0eb-4e76-9d46-93582222dc42',\n",
       " 'code': 'AAH',\n",
       " 'name': 'Arnold Arboretum, Harvard University',\n",
       " 'country': 'US',\n",
       " 'altCodes': '[]'}"
      ]
     },
     "execution_count": 142,
     "metadata": {},
     "output_type": "execute_result"
    }
   ],
   "source": [
    "def get_institution(institution_code, institution_name):\n",
    "    \n",
    "    if institution_code:\n",
    "        result = institutions_df[institutions_df.code == institution_code]\n",
    "        if not result.empty:\n",
    "            return result.iloc[0].to_dict()\n",
    "            \n",
    "    if institution_name:\n",
    "        result = institutions_df[institutions_df.name.str.contains(institution_name, case=False)]\n",
    "        if not result.empty:\n",
    "            return result.iloc[0].to_dict()        \n",
    "\n",
    "get_insitution('AAH', institution_name)"
   ]
  },
  {
   "cell_type": "code",
   "execution_count": 135,
   "id": "b357d0f0-5a07-4229-8615-1644bc55e205",
   "metadata": {},
   "outputs": [],
   "source": [
    "if institution_name:\n",
    "    institutions_df[institutions_df.name.str.contains('Harvard', case)]"
   ]
  },
  {
   "cell_type": "code",
   "execution_count": 134,
   "id": "4e1041c5-5156-4507-8e49-54dd387b0cc2",
   "metadata": {},
   "outputs": [
    {
     "data": {
      "text/plain": [
       "'Harvard University'"
      ]
     },
     "execution_count": 134,
     "metadata": {},
     "output_type": "execute_result"
    }
   ],
   "source": [
    "institution_name"
   ]
  },
  {
   "cell_type": "code",
   "execution_count": 138,
   "id": "04af98a9-7f38-4f63-b2a5-fbb9075580e6",
   "metadata": {},
   "outputs": [
    {
     "data": {
      "text/html": [
       "<div>\n",
       "<style scoped>\n",
       "    .dataframe tbody tr th:only-of-type {\n",
       "        vertical-align: middle;\n",
       "    }\n",
       "\n",
       "    .dataframe tbody tr th {\n",
       "        vertical-align: top;\n",
       "    }\n",
       "\n",
       "    .dataframe thead th {\n",
       "        text-align: right;\n",
       "    }\n",
       "</style>\n",
       "<table border=\"1\" class=\"dataframe\">\n",
       "  <thead>\n",
       "    <tr style=\"text-align: right;\">\n",
       "      <th></th>\n",
       "      <th>uuid</th>\n",
       "      <th>code</th>\n",
       "      <th>name</th>\n",
       "      <th>country</th>\n",
       "      <th>altCodes</th>\n",
       "    </tr>\n",
       "  </thead>\n",
       "  <tbody>\n",
       "    <tr>\n",
       "      <th>496</th>\n",
       "      <td>219261fd-d235-4d52-acd6-ddc79dc7e870</td>\n",
       "      <td>Harvard University</td>\n",
       "      <td>Harvard University, The Gray Herbarium</td>\n",
       "      <td>US</td>\n",
       "      <td>[]</td>\n",
       "    </tr>\n",
       "    <tr>\n",
       "      <th>520</th>\n",
       "      <td>2f97e96c-6555-4f10-b26f-6a5cd9bd6cba</td>\n",
       "      <td>Harvard University</td>\n",
       "      <td>Harvard University, Arnold Arboretum of Harvar...</td>\n",
       "      <td>US</td>\n",
       "      <td>[]</td>\n",
       "    </tr>\n",
       "    <tr>\n",
       "      <th>524</th>\n",
       "      <td>4db8f93a-eb0e-42b1-b84a-02c052aa0486</td>\n",
       "      <td>Harvard University</td>\n",
       "      <td>Harvard University, Economic Herbarium of Oake...</td>\n",
       "      <td>US</td>\n",
       "      <td>[]</td>\n",
       "    </tr>\n",
       "    <tr>\n",
       "      <th>525</th>\n",
       "      <td>bbc8f84a-40ce-4aff-9dde-c99f45616257</td>\n",
       "      <td>Harvard University</td>\n",
       "      <td>Harvard University, The Farlow Herbarium</td>\n",
       "      <td>US</td>\n",
       "      <td>[]</td>\n",
       "    </tr>\n",
       "    <tr>\n",
       "      <th>550</th>\n",
       "      <td>b9cab401-2515-4017-b086-66ccaadf9370</td>\n",
       "      <td>Harvard University</td>\n",
       "      <td>Harvard University, Oakes Ames Orchid Herbarium</td>\n",
       "      <td>US</td>\n",
       "      <td>[]</td>\n",
       "    </tr>\n",
       "    <tr>\n",
       "      <th>7833</th>\n",
       "      <td>1cfca87c-083e-4d67-8e60-cb7d311f6058</td>\n",
       "      <td>MCZ</td>\n",
       "      <td>Harvard University, Museum of Comparative Zoology</td>\n",
       "      <td>US</td>\n",
       "      <td>[]</td>\n",
       "    </tr>\n",
       "    <tr>\n",
       "      <th>7957</th>\n",
       "      <td>c4dce18b-c0eb-4e76-9d46-93582222dc42</td>\n",
       "      <td>AAH</td>\n",
       "      <td>Arnold Arboretum, Harvard University</td>\n",
       "      <td>US</td>\n",
       "      <td>[]</td>\n",
       "    </tr>\n",
       "    <tr>\n",
       "      <th>8026</th>\n",
       "      <td>1e0a49e1-2be3-4028-911c-47cf84c9aa66</td>\n",
       "      <td>A</td>\n",
       "      <td>Harvard University</td>\n",
       "      <td>US</td>\n",
       "      <td>[]</td>\n",
       "    </tr>\n",
       "    <tr>\n",
       "      <th>8056</th>\n",
       "      <td>648a5b5f-0421-44fd-8dd3-82add535bc54</td>\n",
       "      <td>GH</td>\n",
       "      <td>Harvard University</td>\n",
       "      <td>US</td>\n",
       "      <td>[]</td>\n",
       "    </tr>\n",
       "    <tr>\n",
       "      <th>8069</th>\n",
       "      <td>6ed3d3c8-e018-427e-bb25-8c5f55d8e480</td>\n",
       "      <td>AMES</td>\n",
       "      <td>Harvard University</td>\n",
       "      <td>US</td>\n",
       "      <td>[]</td>\n",
       "    </tr>\n",
       "    <tr>\n",
       "      <th>8101</th>\n",
       "      <td>c9f521e9-378c-4752-8e3e-f8e59fceea94</td>\n",
       "      <td>ECON</td>\n",
       "      <td>Harvard University</td>\n",
       "      <td>US</td>\n",
       "      <td>[]</td>\n",
       "    </tr>\n",
       "    <tr>\n",
       "      <th>8116</th>\n",
       "      <td>e26df85f-d42e-43ec-9fff-453a6212a45c</td>\n",
       "      <td>FH</td>\n",
       "      <td>Harvard University</td>\n",
       "      <td>US</td>\n",
       "      <td>[]</td>\n",
       "    </tr>\n",
       "  </tbody>\n",
       "</table>\n",
       "</div>"
      ],
      "text/plain": [
       "                                      uuid                code  \\\n",
       "496   219261fd-d235-4d52-acd6-ddc79dc7e870  Harvard University   \n",
       "520   2f97e96c-6555-4f10-b26f-6a5cd9bd6cba  Harvard University   \n",
       "524   4db8f93a-eb0e-42b1-b84a-02c052aa0486  Harvard University   \n",
       "525   bbc8f84a-40ce-4aff-9dde-c99f45616257  Harvard University   \n",
       "550   b9cab401-2515-4017-b086-66ccaadf9370  Harvard University   \n",
       "7833  1cfca87c-083e-4d67-8e60-cb7d311f6058                 MCZ   \n",
       "7957  c4dce18b-c0eb-4e76-9d46-93582222dc42                 AAH   \n",
       "8026  1e0a49e1-2be3-4028-911c-47cf84c9aa66                   A   \n",
       "8056  648a5b5f-0421-44fd-8dd3-82add535bc54                  GH   \n",
       "8069  6ed3d3c8-e018-427e-bb25-8c5f55d8e480                AMES   \n",
       "8101  c9f521e9-378c-4752-8e3e-f8e59fceea94                ECON   \n",
       "8116  e26df85f-d42e-43ec-9fff-453a6212a45c                  FH   \n",
       "\n",
       "                                                   name country altCodes  \n",
       "496              Harvard University, The Gray Herbarium      US       []  \n",
       "520   Harvard University, Arnold Arboretum of Harvar...      US       []  \n",
       "524   Harvard University, Economic Herbarium of Oake...      US       []  \n",
       "525            Harvard University, The Farlow Herbarium      US       []  \n",
       "550     Harvard University, Oakes Ames Orchid Herbarium      US       []  \n",
       "7833  Harvard University, Museum of Comparative Zoology      US       []  \n",
       "7957               Arnold Arboretum, Harvard University      US       []  \n",
       "8026                                 Harvard University      US       []  \n",
       "8056                                 Harvard University      US       []  \n",
       "8069                                 Harvard University      US       []  \n",
       "8101                                 Harvard University      US       []  \n",
       "8116                                 Harvard University      US       []  "
      ]
     },
     "execution_count": 138,
     "metadata": {},
     "output_type": "execute_result"
    }
   ],
   "source": [
    "institutions_df[institutions_df.name.str.contains('harvard', case=False)]"
   ]
  },
  {
   "cell_type": "code",
   "execution_count": 137,
   "id": "7c5b0333-6925-46ab-b032-dbe1bf880677",
   "metadata": {},
   "outputs": [
    {
     "data": {
      "text/plain": [
       "'HAR'"
      ]
     },
     "execution_count": 137,
     "metadata": {},
     "output_type": "execute_result"
    }
   ],
   "source": [
    "institution_code"
   ]
  },
  {
   "cell_type": "code",
   "execution_count": null,
   "id": "cdaa0e05-3115-464d-820e-4484c4e86069",
   "metadata": {},
   "outputs": [],
   "source": []
  }
 ],
 "metadata": {
  "kernelspec": {
   "display_name": "PlanetaryKnowledgeBase",
   "language": "python",
   "name": "planetaryknowledgebase"
  },
  "language_info": {
   "codemirror_mode": {
    "name": "ipython",
    "version": 3
   },
   "file_extension": ".py",
   "mimetype": "text/x-python",
   "name": "python",
   "nbconvert_exporter": "python",
   "pygments_lexer": "ipython3",
   "version": "3.10.0"
  }
 },
 "nbformat": 4,
 "nbformat_minor": 5
}
