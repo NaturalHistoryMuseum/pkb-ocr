{
 "cells": [
  {
   "cell_type": "code",
   "execution_count": 13,
   "id": "ba28570e-0b74-4eac-b44c-485c79ad06a9",
   "metadata": {},
   "outputs": [],
   "source": [
    "from pathlib import Path\n",
    "import pandas as pd\n",
    "from taxon_parser import TaxonParser, UnparsableNameException\n",
    "from fuzzywuzzy import process"
   ]
  },
  {
   "cell_type": "code",
   "execution_count": 3,
   "id": "4873fbe6-4f91-40c7-92c8-485265d31467",
   "metadata": {},
   "outputs": [],
   "source": [
    "DATA_DIR = Path('./data')\n",
    "\n",
    "INPUT_DIR = DATA_DIR / 'input'\n",
    "OUTPUT_DIR = DATA_DIR / 'output'\n",
    "\n",
    "countries_df = pd.read_csv(INPUT_DIR / 'countries.csv')\n",
    "taxa_df = pd.read_csv(INPUT_DIR / 'taxa.csv')\n",
    "institutions_df = pd.read_csv(INPUT_DIR / 'institutions.csv')"
   ]
  },
  {
   "cell_type": "code",
   "execution_count": 14,
   "id": "399ea21b-9569-4a41-8edb-56caf41af371",
   "metadata": {},
   "outputs": [
    {
     "data": {
      "text/plain": [
       "('Herbarium', 90.0, 951)"
      ]
     },
     "execution_count": 14,
     "metadata": {},
     "output_type": "execute_result"
    }
   ],
   "source": [
    "# taxa_df = pd.read_csv(DATA_DIR / 'solanaceae.csv')\n",
    "\n",
    "institutions_df\n",
    "\n",
    "# # String to match\n",
    "input_string = 'Harvard University Herbarium'\n",
    "\n",
    "# # Find the best match\n",
    "process.extractOne(input_string, institutions_df['name'])"
   ]
  },
  {
   "cell_type": "code",
   "execution_count": 8,
   "id": "a9abfad4-5443-455b-af5e-065fbd0f3245",
   "metadata": {},
   "outputs": [
    {
     "data": {
      "text/plain": [
       "('The College of Idaho, Orma J. Smith Museum of Natural History', 86, 540)"
      ]
     },
     "execution_count": 8,
     "metadata": {},
     "output_type": "execute_result"
    }
   ],
   "source": [
    "best_match"
   ]
  },
  {
   "cell_type": "code",
   "execution_count": 12,
   "id": "bfb2c835-6f5f-4752-a54c-34892c2dd9ce",
   "metadata": {},
   "outputs": [
    {
     "name": "stdout",
     "output_type": "stream",
     "text": [
      "Requirement already satisfied: rapidfuzz in /Users/ben/Projects/PlanetaryKnowledgeBase/.venv/lib/python3.10/site-packages (3.9.1)\n",
      "\n",
      "\u001b[1m[\u001b[0m\u001b[34;49mnotice\u001b[0m\u001b[1;39;49m]\u001b[0m\u001b[39;49m A new release of pip is available: \u001b[0m\u001b[31;49m24.0\u001b[0m\u001b[39;49m -> \u001b[0m\u001b[32;49m24.2\u001b[0m\n",
      "\u001b[1m[\u001b[0m\u001b[34;49mnotice\u001b[0m\u001b[1;39;49m]\u001b[0m\u001b[39;49m To update, run: \u001b[0m\u001b[32;49mpip install --upgrade pip\u001b[0m\n"
     ]
    }
   ],
   "source": [
    "!pip install rapidfuzz"
   ]
  },
  {
   "cell_type": "code",
   "execution_count": null,
   "id": "22b7c592-9639-421b-a5d5-da62ce66493f",
   "metadata": {},
   "outputs": [],
   "source": []
  }
 ],
 "metadata": {
  "kernelspec": {
   "display_name": "PlanetaryKnowledgeBase",
   "language": "python",
   "name": "planetaryknowledgebase"
  },
  "language_info": {
   "codemirror_mode": {
    "name": "ipython",
    "version": 3
   },
   "file_extension": ".py",
   "mimetype": "text/x-python",
   "name": "python",
   "nbconvert_exporter": "python",
   "pygments_lexer": "ipython3",
   "version": "3.10.0"
  }
 },
 "nbformat": 4,
 "nbformat_minor": 5
}
